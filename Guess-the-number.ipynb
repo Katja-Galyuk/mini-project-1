{
 "cells": [
  {
   "cell_type": "code",
   "execution_count": null,
   "metadata": {},
   "outputs": [],
   "source": [
    "# Guess The Number\n",
    "\n",
    "# Computer chooses a random number up to 100\n",
    "# human gets 8 tries to guess the number\n",
    "# if number is wrong, computer says 'higher' or 'lower'\n",
    "\n",
    "\n",
    "import random\n",
    "\n",
    "print(\"I'm thinking of a number from 1 to 100. Why don't you guess it?\")\n",
    "\n",
    "number = random.randint(1, 100)\n",
    "\n",
    "def check_guess(guess, number):\n",
    "    if guess < number:\n",
    "        print('higher')     \n",
    "    elif guess > number:\n",
    "        print('lower')\n",
    "    else:\n",
    "        print('You guessed my number!')\n",
    "\n",
    "\n",
    "guesses_taken = 0\n",
    "\n",
    "while guesses_taken < 8:\n",
    "    if 8 - guesses_taken > 1:\n",
    "        print(\"What would be your guess? You've got\", 8 - guesses_taken , \"tries\")\n",
    "    else:\n",
    "        print(\"And that's your last try.\")\n",
    "   \n",
    "    guess= input()\n",
    "    guess = int(guess)\n",
    "    \n",
    "    guesses_taken = guesses_taken + 1\n",
    "    check_guess(guess, number)\n",
    "    \n",
    "    if guess == number:\n",
    "        break\n",
    "    \n",
    "if guesses_taken >= 8:\n",
    "    print('Sorry, you are out of luck, the number I was thinking is '+ str(number))"
   ]
  }
 ],
 "metadata": {
  "kernelspec": {
   "display_name": "Python 3",
   "language": "python",
   "name": "python3"
  },
  "language_info": {
   "codemirror_mode": {
    "name": "ipython",
    "version": 3
   },
   "file_extension": ".py",
   "mimetype": "text/x-python",
   "name": "python",
   "nbconvert_exporter": "python",
   "pygments_lexer": "ipython3",
   "version": "3.7.3"
  }
 },
 "nbformat": 4,
 "nbformat_minor": 2
}
